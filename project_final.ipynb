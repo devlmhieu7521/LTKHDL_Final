{
 "cells": [
  {
   "cell_type": "markdown",
   "id": "9660f41f",
   "metadata": {},
   "source": [
    "# Project final:\n",
    "\n",
    "Team:\n",
    "- Kiều Hải Đăng - 19127347\n",
    "- Lã Minh Hiếu - 19127400"
   ]
  },
  {
   "cell_type": "markdown",
   "id": "e6877742",
   "metadata": {},
   "source": [
    "## 1. Collecting data:"
   ]
  },
  {
   "cell_type": "markdown",
   "id": "bdb61dba",
   "metadata": {},
   "source": [
    "**1.1 The subject of data:**\n",
    "\n",
    "- The dataset about TED Talks on the TED.com\n",
    "\n",
    "**1.2 The origin of data:**\n",
    "- We get dataset form [kaggle.](https://www.kaggle.com/rounakbanik/ted-talks?select=ted_main.csv)\n",
    "\n",
    "**1.3 The licence of data:**\n",
    "- The licence is [CC BY-NC-SA 4.0.](https://creativecommons.org/licenses/by-nc-sa/4.0/)\n",
    "\n",
    "**1.4 How did authors collect data?**\n",
    "- The data has been scraped from the official TED Website.\n",
    "\n",
    "**1.5 Data describtion**\n",
    "- These datasets contain information of all audio-video recordings of TED Talks uploaded to the official TED.com website until September 21st, 2017. \n"
   ]
  },
  {
   "cell_type": "markdown",
   "id": "4aadf7f7",
   "metadata": {},
   "source": [
    "## Library"
   ]
  },
  {
   "cell_type": "code",
   "execution_count": 23,
   "id": "57c0c6d0",
   "metadata": {},
   "outputs": [],
   "source": [
    "import pandas as pd\n",
    "import matplotlib.pyplot as plt\n",
    "import numpy as np\n",
    "import re"
   ]
  },
  {
   "cell_type": "markdown",
   "id": "0fa40c54",
   "metadata": {},
   "source": [
    "## 2. Exploring data"
   ]
  },
  {
   "cell_type": "markdown",
   "id": "46263c01",
   "metadata": {},
   "source": [
    "- How many rows and how many columns?\n",
    "- What is the meaning of each row?\n",
    "\n",
    "    - Are there **duplicated** rows?\n",
    "    - What is the meaning of each column?\n",
    "    - What is the current data type of each column? Are there columns having inappropriate data types?\n",
    "    \n",
    "    - With each **numerical** column, how are values distributed?\n",
    "        - What is the percentage of missing values?\n",
    "        - Min? max? Are they abnormal?\n",
    "        \n",
    "    - With each **categorical** column, how are values distributed?\n",
    "        - What is the percentage of missing values?\n",
    "        - How many different values? Show a few\n",
    "        - Are they abnormal?"
   ]
  },
  {
   "cell_type": "markdown",
   "id": "31b76daa",
   "metadata": {},
   "source": [
    "### Read data from csv to dataframe "
   ]
  },
  {
   "cell_type": "code",
   "execution_count": 3,
   "id": "d202f469",
   "metadata": {},
   "outputs": [
    {
     "data": {
      "text/html": [
       "<div>\n",
       "<style scoped>\n",
       "    .dataframe tbody tr th:only-of-type {\n",
       "        vertical-align: middle;\n",
       "    }\n",
       "\n",
       "    .dataframe tbody tr th {\n",
       "        vertical-align: top;\n",
       "    }\n",
       "\n",
       "    .dataframe thead th {\n",
       "        text-align: right;\n",
       "    }\n",
       "</style>\n",
       "<table border=\"1\" class=\"dataframe\">\n",
       "  <thead>\n",
       "    <tr style=\"text-align: right;\">\n",
       "      <th></th>\n",
       "      <th>comments</th>\n",
       "      <th>description</th>\n",
       "      <th>duration</th>\n",
       "      <th>event</th>\n",
       "      <th>film_date</th>\n",
       "      <th>languages</th>\n",
       "      <th>main_speaker</th>\n",
       "      <th>name</th>\n",
       "      <th>num_speaker</th>\n",
       "      <th>published_date</th>\n",
       "      <th>ratings</th>\n",
       "      <th>related_talks</th>\n",
       "      <th>speaker_occupation</th>\n",
       "      <th>tags</th>\n",
       "      <th>title</th>\n",
       "      <th>url</th>\n",
       "      <th>views</th>\n",
       "    </tr>\n",
       "  </thead>\n",
       "  <tbody>\n",
       "    <tr>\n",
       "      <th>0</th>\n",
       "      <td>4553</td>\n",
       "      <td>Sir Ken Robinson makes an entertaining and pro...</td>\n",
       "      <td>1164</td>\n",
       "      <td>TED2006</td>\n",
       "      <td>1140825600</td>\n",
       "      <td>60</td>\n",
       "      <td>Ken Robinson</td>\n",
       "      <td>Ken Robinson: Do schools kill creativity?</td>\n",
       "      <td>1</td>\n",
       "      <td>1151367060</td>\n",
       "      <td>[{'id': 7, 'name': 'Funny', 'count': 19645}, {...</td>\n",
       "      <td>[{'id': 865, 'hero': 'https://pe.tedcdn.com/im...</td>\n",
       "      <td>Author/educator</td>\n",
       "      <td>['children', 'creativity', 'culture', 'dance',...</td>\n",
       "      <td>Do schools kill creativity?</td>\n",
       "      <td>https://www.ted.com/talks/ken_robinson_says_sc...</td>\n",
       "      <td>47227110</td>\n",
       "    </tr>\n",
       "    <tr>\n",
       "      <th>1</th>\n",
       "      <td>265</td>\n",
       "      <td>With the same humor and humanity he exuded in ...</td>\n",
       "      <td>977</td>\n",
       "      <td>TED2006</td>\n",
       "      <td>1140825600</td>\n",
       "      <td>43</td>\n",
       "      <td>Al Gore</td>\n",
       "      <td>Al Gore: Averting the climate crisis</td>\n",
       "      <td>1</td>\n",
       "      <td>1151367060</td>\n",
       "      <td>[{'id': 7, 'name': 'Funny', 'count': 544}, {'i...</td>\n",
       "      <td>[{'id': 243, 'hero': 'https://pe.tedcdn.com/im...</td>\n",
       "      <td>Climate advocate</td>\n",
       "      <td>['alternative energy', 'cars', 'climate change...</td>\n",
       "      <td>Averting the climate crisis</td>\n",
       "      <td>https://www.ted.com/talks/al_gore_on_averting_...</td>\n",
       "      <td>3200520</td>\n",
       "    </tr>\n",
       "    <tr>\n",
       "      <th>2</th>\n",
       "      <td>124</td>\n",
       "      <td>New York Times columnist David Pogue takes aim...</td>\n",
       "      <td>1286</td>\n",
       "      <td>TED2006</td>\n",
       "      <td>1140739200</td>\n",
       "      <td>26</td>\n",
       "      <td>David Pogue</td>\n",
       "      <td>David Pogue: Simplicity sells</td>\n",
       "      <td>1</td>\n",
       "      <td>1151367060</td>\n",
       "      <td>[{'id': 7, 'name': 'Funny', 'count': 964}, {'i...</td>\n",
       "      <td>[{'id': 1725, 'hero': 'https://pe.tedcdn.com/i...</td>\n",
       "      <td>Technology columnist</td>\n",
       "      <td>['computers', 'entertainment', 'interface desi...</td>\n",
       "      <td>Simplicity sells</td>\n",
       "      <td>https://www.ted.com/talks/david_pogue_says_sim...</td>\n",
       "      <td>1636292</td>\n",
       "    </tr>\n",
       "    <tr>\n",
       "      <th>3</th>\n",
       "      <td>200</td>\n",
       "      <td>In an emotionally charged talk, MacArthur-winn...</td>\n",
       "      <td>1116</td>\n",
       "      <td>TED2006</td>\n",
       "      <td>1140912000</td>\n",
       "      <td>35</td>\n",
       "      <td>Majora Carter</td>\n",
       "      <td>Majora Carter: Greening the ghetto</td>\n",
       "      <td>1</td>\n",
       "      <td>1151367060</td>\n",
       "      <td>[{'id': 3, 'name': 'Courageous', 'count': 760}...</td>\n",
       "      <td>[{'id': 1041, 'hero': 'https://pe.tedcdn.com/i...</td>\n",
       "      <td>Activist for environmental justice</td>\n",
       "      <td>['MacArthur grant', 'activism', 'business', 'c...</td>\n",
       "      <td>Greening the ghetto</td>\n",
       "      <td>https://www.ted.com/talks/majora_carter_s_tale...</td>\n",
       "      <td>1697550</td>\n",
       "    </tr>\n",
       "    <tr>\n",
       "      <th>4</th>\n",
       "      <td>593</td>\n",
       "      <td>You've never seen data presented like this. Wi...</td>\n",
       "      <td>1190</td>\n",
       "      <td>TED2006</td>\n",
       "      <td>1140566400</td>\n",
       "      <td>48</td>\n",
       "      <td>Hans Rosling</td>\n",
       "      <td>Hans Rosling: The best stats you've ever seen</td>\n",
       "      <td>1</td>\n",
       "      <td>1151440680</td>\n",
       "      <td>[{'id': 9, 'name': 'Ingenious', 'count': 3202}...</td>\n",
       "      <td>[{'id': 2056, 'hero': 'https://pe.tedcdn.com/i...</td>\n",
       "      <td>Global health expert; data visionary</td>\n",
       "      <td>['Africa', 'Asia', 'Google', 'demo', 'economic...</td>\n",
       "      <td>The best stats you've ever seen</td>\n",
       "      <td>https://www.ted.com/talks/hans_rosling_shows_t...</td>\n",
       "      <td>12005869</td>\n",
       "    </tr>\n",
       "  </tbody>\n",
       "</table>\n",
       "</div>"
      ],
      "text/plain": [
       "   comments                                        description  duration  \\\n",
       "0      4553  Sir Ken Robinson makes an entertaining and pro...      1164   \n",
       "1       265  With the same humor and humanity he exuded in ...       977   \n",
       "2       124  New York Times columnist David Pogue takes aim...      1286   \n",
       "3       200  In an emotionally charged talk, MacArthur-winn...      1116   \n",
       "4       593  You've never seen data presented like this. Wi...      1190   \n",
       "\n",
       "     event   film_date  languages   main_speaker  \\\n",
       "0  TED2006  1140825600         60   Ken Robinson   \n",
       "1  TED2006  1140825600         43        Al Gore   \n",
       "2  TED2006  1140739200         26    David Pogue   \n",
       "3  TED2006  1140912000         35  Majora Carter   \n",
       "4  TED2006  1140566400         48   Hans Rosling   \n",
       "\n",
       "                                            name  num_speaker  published_date  \\\n",
       "0      Ken Robinson: Do schools kill creativity?            1      1151367060   \n",
       "1           Al Gore: Averting the climate crisis            1      1151367060   \n",
       "2                  David Pogue: Simplicity sells            1      1151367060   \n",
       "3             Majora Carter: Greening the ghetto            1      1151367060   \n",
       "4  Hans Rosling: The best stats you've ever seen            1      1151440680   \n",
       "\n",
       "                                             ratings  \\\n",
       "0  [{'id': 7, 'name': 'Funny', 'count': 19645}, {...   \n",
       "1  [{'id': 7, 'name': 'Funny', 'count': 544}, {'i...   \n",
       "2  [{'id': 7, 'name': 'Funny', 'count': 964}, {'i...   \n",
       "3  [{'id': 3, 'name': 'Courageous', 'count': 760}...   \n",
       "4  [{'id': 9, 'name': 'Ingenious', 'count': 3202}...   \n",
       "\n",
       "                                       related_talks  \\\n",
       "0  [{'id': 865, 'hero': 'https://pe.tedcdn.com/im...   \n",
       "1  [{'id': 243, 'hero': 'https://pe.tedcdn.com/im...   \n",
       "2  [{'id': 1725, 'hero': 'https://pe.tedcdn.com/i...   \n",
       "3  [{'id': 1041, 'hero': 'https://pe.tedcdn.com/i...   \n",
       "4  [{'id': 2056, 'hero': 'https://pe.tedcdn.com/i...   \n",
       "\n",
       "                     speaker_occupation  \\\n",
       "0                       Author/educator   \n",
       "1                      Climate advocate   \n",
       "2                  Technology columnist   \n",
       "3    Activist for environmental justice   \n",
       "4  Global health expert; data visionary   \n",
       "\n",
       "                                                tags  \\\n",
       "0  ['children', 'creativity', 'culture', 'dance',...   \n",
       "1  ['alternative energy', 'cars', 'climate change...   \n",
       "2  ['computers', 'entertainment', 'interface desi...   \n",
       "3  ['MacArthur grant', 'activism', 'business', 'c...   \n",
       "4  ['Africa', 'Asia', 'Google', 'demo', 'economic...   \n",
       "\n",
       "                             title  \\\n",
       "0      Do schools kill creativity?   \n",
       "1      Averting the climate crisis   \n",
       "2                 Simplicity sells   \n",
       "3              Greening the ghetto   \n",
       "4  The best stats you've ever seen   \n",
       "\n",
       "                                                 url     views  \n",
       "0  https://www.ted.com/talks/ken_robinson_says_sc...  47227110  \n",
       "1  https://www.ted.com/talks/al_gore_on_averting_...   3200520  \n",
       "2  https://www.ted.com/talks/david_pogue_says_sim...   1636292  \n",
       "3  https://www.ted.com/talks/majora_carter_s_tale...   1697550  \n",
       "4  https://www.ted.com/talks/hans_rosling_shows_t...  12005869  "
      ]
     },
     "execution_count": 3,
     "metadata": {},
     "output_type": "execute_result"
    }
   ],
   "source": [
    "ted_df = pd.read_csv('ted_main.csv')\n",
    "ted_df.head()"
   ]
  },
  {
   "cell_type": "markdown",
   "id": "595fab38",
   "metadata": {},
   "source": [
    "### How many rows and columns does the data have?"
   ]
  },
  {
   "cell_type": "code",
   "execution_count": 4,
   "id": "aa334be3",
   "metadata": {},
   "outputs": [
    {
     "name": "stdout",
     "output_type": "stream",
     "text": [
      "Rows:  2550\n",
      "Columns:  17\n"
     ]
    }
   ],
   "source": [
    "num_rows = ted_df.shape[0]\n",
    "num_cols = ted_df.shape[1]\n",
    "print('Rows: ',num_rows)\n",
    "print('Columns: ',num_cols)"
   ]
  },
  {
   "cell_type": "markdown",
   "id": "39a1cd57",
   "metadata": {},
   "source": [
    "### What is the meaning of each row?"
   ]
  },
  {
   "cell_type": "markdown",
   "id": "2a21a77c",
   "metadata": {},
   "source": [
    "Each row represents for a video/audio on ted.com"
   ]
  },
  {
   "cell_type": "markdown",
   "id": "bedff836",
   "metadata": {},
   "source": [
    "### Are there duplicated rows"
   ]
  },
  {
   "cell_type": "code",
   "execution_count": 9,
   "id": "f2288ce2",
   "metadata": {},
   "outputs": [
    {
     "name": "stdout",
     "output_type": "stream",
     "text": [
      "Are there duplicated rows: False\n"
     ]
    }
   ],
   "source": [
    "if ted_df[ted_df.duplicated()].shape[0] == 0:\n",
    "    have_duplicated_rows = False\n",
    "else:\n",
    "    have_duplicated_rows = True\n",
    "print('Are there duplicated rows:', have_duplicated_rows)"
   ]
  },
  {
   "cell_type": "markdown",
   "id": "19931fea",
   "metadata": {},
   "source": [
    "### What is the meaning of each column?"
   ]
  },
  {
   "cell_type": "markdown",
   "id": "248ee0ff",
   "metadata": {},
   "source": [
    "There are the description of each column in [kaggle.](https://www.kaggle.com/rounakbanik/ted-talks?select=ted_main.csv)\n",
    "\n",
    "- **comments**: The number of first level comments made on the talk\n",
    "- **description**: A blurb of what the talk is about\n",
    "- **duration**: The duration of the talk in seconds\n",
    "- **event**: The TED/TEDx event where the talk took place\n",
    "- **film_date**: The Unix timestamp of filming\n",
    "- **languages**: The number of languages in which the talk is available\n",
    "- **main_speaker**: The first named speaker of the talk\n",
    "- **name**: The official name of the TED Talk. Includes the title and speaker\n",
    "- **num_speaker**: The number of speakers in the talk\n",
    "- **published_date**: The Unix timestamp for the publication of the talk on TED.com\n",
    "- **ratings**: A stringified dictionary of the various ratings given to the talk (inspiring, fascinating, jaw dropping, etc.)\n",
    "- **related_talk**: A list of dictionaries of recommended talks to watch next\n",
    "- **speaker_occupation**: The occupation of the main speaker\n",
    "- **tags**: The themes associated with the talk\n",
    "- **title**: The title of the talk\n",
    "- **url**: The URL of the talk\n",
    "- **views**: The number of views on the talk"
   ]
  },
  {
   "cell_type": "markdown",
   "id": "157b8b80",
   "metadata": {},
   "source": [
    "### What is the current data type of each column? Are there columns having inappropriate data types?"
   ]
  },
  {
   "cell_type": "code",
   "execution_count": 12,
   "id": "81bfced9",
   "metadata": {},
   "outputs": [
    {
     "data": {
      "text/plain": [
       "comments               int64\n",
       "description           object\n",
       "duration               int64\n",
       "event                 object\n",
       "film_date              int64\n",
       "languages              int64\n",
       "main_speaker          object\n",
       "name                  object\n",
       "num_speaker            int64\n",
       "published_date         int64\n",
       "ratings               object\n",
       "related_talks         object\n",
       "speaker_occupation    object\n",
       "tags                  object\n",
       "title                 object\n",
       "url                   object\n",
       "views                  int64\n",
       "dtype: object"
      ]
     },
     "execution_count": 12,
     "metadata": {},
     "output_type": "execute_result"
    }
   ],
   "source": [
    "col_dtypes = ted_df.dtypes\n",
    "col_dtypes"
   ]
  },
  {
   "cell_type": "markdown",
   "id": "616ffba8",
   "metadata": {},
   "source": [
    "`ted_df` has 10 columns which have `object` data types: \"description\",\"event\",\"main_speaker\",\"name\",\"ratings\",\"related_talks\",\"speaker_occupation\",\"tags\",\"title\",\"title\",\"url\". However, \"ratings\" is a stringified dictionary `{'id': 7, 'name': 'Funny', 'count': 19645}`; \"film_date\" and \"published_date\" is `int64` data type."
   ]
  },
  {
   "cell_type": "markdown",
   "id": "85c4a001",
   "metadata": {},
   "source": [
    "**We need to preprocessing:**\n",
    "- \"ratings\": seperate each element in dictionary to each columns like \"Funny\",\"Courageous\",etc.\n",
    "- \"film_date\" and \"published_date\": need to turn to datetime"
   ]
  },
  {
   "cell_type": "markdown",
   "id": "29690db2",
   "metadata": {},
   "source": [
    "## 3. Preprocessing data"
   ]
  },
  {
   "cell_type": "markdown",
   "id": "1784c892",
   "metadata": {},
   "source": [
    "### Transform the data type of \"film_date\" and \"published_date\" to dataframe"
   ]
  },
  {
   "cell_type": "code",
   "execution_count": 20,
   "id": "cc9bf466",
   "metadata": {},
   "outputs": [],
   "source": [
    "ted_df['film_date'] = pd.to_datetime(ted_df['film_date'],unit='s')\n",
    "ted_df['published_date'] = pd.to_datetime(ted_df['published_date'],unit='s')"
   ]
  },
  {
   "cell_type": "markdown",
   "id": "adbaea94",
   "metadata": {},
   "source": [
    "### \"ratings\": seperate each element in dictionary to each columns like \"Funny\",\"Courageous\",etc."
   ]
  },
  {
   "cell_type": "code",
   "execution_count": 45,
   "id": "0f7471b9",
   "metadata": {},
   "outputs": [
    {
     "data": {
      "text/plain": [
       "\"[{'id': 7, 'name': 'Funny', 'count': 19645}, {'id': 1, 'name': 'Beautiful', 'count': 4573}, {'id': 9, 'name': 'Ingenious', 'count': 6073}, {'id': 3, 'name': 'Courageous', 'count': 3253}, {'id': 11, 'name': 'Longwinded', 'count': 387}, {'id': 2, 'name': 'Confusing', 'count': 242}, {'id': 8, 'name': 'Informative', 'count': 7346}, {'id': 22, 'name': 'Fascinating', 'count': 10581}, {'id': 21, 'name': 'Unconvincing', 'count': 300}, {'id': 24, 'name': 'Persuasive', 'count': 10704}, {'id': 23, 'name': 'Jaw-dropping', 'count': 4439}, {'id': 25, 'name': 'OK', 'count': 1174}, {'id': 26, 'name': 'Obnoxious', 'count': 209}, {'id': 10, 'name': 'Inspiring', 'count': 24924}]\""
      ]
     },
     "execution_count": 45,
     "metadata": {},
     "output_type": "execute_result"
    }
   ],
   "source": [
    "ted_df['ratings'][0]"
   ]
  },
  {
   "cell_type": "markdown",
   "id": "4d274440",
   "metadata": {},
   "source": [
    "## 3. Asking meaningful questions"
   ]
  },
  {
   "cell_type": "markdown",
   "id": "63cd7756",
   "metadata": {},
   "source": [
    "- What is the question?\n",
    "- What are benefits of finding the answer?"
   ]
  },
  {
   "cell_type": "markdown",
   "id": "01a8c7c3",
   "metadata": {},
   "source": [
    "## 4. Preprocessing + analyzing data to answer each question"
   ]
  },
  {
   "cell_type": "code",
   "execution_count": null,
   "id": "381e2142",
   "metadata": {},
   "outputs": [],
   "source": []
  },
  {
   "cell_type": "markdown",
   "id": "20deb736",
   "metadata": {},
   "source": [
    "## 5. Conclusion"
   ]
  },
  {
   "cell_type": "markdown",
   "id": "d5745669",
   "metadata": {},
   "source": [
    "## 6. Reflection"
   ]
  },
  {
   "cell_type": "markdown",
   "id": "65b517eb",
   "metadata": {},
   "source": [
    "- Each member: What difficulties have you encountered?\n",
    "- Each member: What have you learned?\n",
    "- Your group: If you had more time, what would you do?"
   ]
  },
  {
   "cell_type": "markdown",
   "id": "0b9d3479",
   "metadata": {},
   "source": [
    "## 7. Reference"
   ]
  }
 ],
 "metadata": {
  "kernelspec": {
   "display_name": "Python 3 (ipykernel)",
   "language": "python",
   "name": "python3"
  },
  "language_info": {
   "codemirror_mode": {
    "name": "ipython",
    "version": 3
   },
   "file_extension": ".py",
   "mimetype": "text/x-python",
   "name": "python",
   "nbconvert_exporter": "python",
   "pygments_lexer": "ipython3",
   "version": "3.8.8"
  }
 },
 "nbformat": 4,
 "nbformat_minor": 5
}
