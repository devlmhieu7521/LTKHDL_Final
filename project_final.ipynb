{
 "cells": [
  {
   "cell_type": "markdown",
   "id": "9660f41f",
   "metadata": {},
   "source": [
    "# Project final:\n",
    "\n",
    "Team:\n",
    "- Kiều Hải Đăng - 19127347\n",
    "- Lã Minh Hiếu - 19127400"
   ]
  },
  {
   "cell_type": "markdown",
   "id": "e6877742",
   "metadata": {},
   "source": [
    "## 1. Collecting data:"
   ]
  },
  {
   "cell_type": "markdown",
   "id": "bdb61dba",
   "metadata": {},
   "source": [
    "**1.1 The subject of data:**\n",
    "\n",
    "- The dataset about TED Talks on the TED.com\n",
    "\n",
    "**1.2 The origin of data:**\n",
    "- We get dataset form [kaggle.](https://www.kaggle.com/rounakbanik/ted-talks?select=ted_main.csv)\n",
    "\n",
    "**1.3 The licence of data:**\n",
    "- The licence is [CC BY-NC-SA 4.0.](https://creativecommons.org/licenses/by-nc-sa/4.0/)\n",
    "\n",
    "**1.4 How did authors collect data?**\n",
    "- The data has been scraped from the official TED Website.\n",
    "\n",
    "**1.5 Data describtion**\n",
    "- These datasets contain information of all audio-video recordings of TED Talks uploaded to the official TED.com website until September 21st, 2017. \n"
   ]
  },
  {
   "cell_type": "markdown",
   "id": "e803c84d",
   "metadata": {},
   "source": [
    "## Library"
   ]
  },
  {
   "cell_type": "code",
   "execution_count": 1,
   "id": "b1e8c0f2",
   "metadata": {},
   "outputs": [],
   "source": [
    "import pandas as pd\n",
    "import matplotlib.pyplot as plt\n",
    "import numpy as np\n",
    "import re\n",
    "import json\n",
    "import ast\n",
    "import datetime as dt"
   ]
  },
  {
   "cell_type": "markdown",
   "id": "0fa40c54",
   "metadata": {},
   "source": [
    "## 2. Exploring data"
   ]
  },
  {
   "cell_type": "markdown",
   "id": "46263c01",
   "metadata": {},
   "source": [
    "- How many rows and how many columns?\n",
    "- What is the meaning of each row?\n",
    "\n",
    "    - Are there **duplicated** rows?\n",
    "    - What is the meaning of each column?\n",
    "    - What is the current data type of each column? Are there columns having inappropriate data types?\n",
    "    \n",
    "    - With each **numerical** column, how are values distributed?\n",
    "        - What is the percentage of missing values?\n",
    "        - Min? max? Are they abnormal?\n",
    "        \n",
    "    - With each **categorical** column, how are values distributed?\n",
    "        - What is the percentage of missing values?\n",
    "        - How many different values? Show a few\n",
    "        - Are they abnormal?"
   ]
  },
  {
   "cell_type": "markdown",
   "id": "6064ab4b",
   "metadata": {},
   "source": [
    "### Read data from csv to dataframe "
   ]
  },
  {
   "cell_type": "code",
   "execution_count": 2,
   "id": "2cb92ad6",
   "metadata": {},
   "outputs": [
    {
     "data": {
      "text/html": [
       "<div>\n",
       "<style scoped>\n",
       "    .dataframe tbody tr th:only-of-type {\n",
       "        vertical-align: middle;\n",
       "    }\n",
       "\n",
       "    .dataframe tbody tr th {\n",
       "        vertical-align: top;\n",
       "    }\n",
       "\n",
       "    .dataframe thead th {\n",
       "        text-align: right;\n",
       "    }\n",
       "</style>\n",
       "<table border=\"1\" class=\"dataframe\">\n",
       "  <thead>\n",
       "    <tr style=\"text-align: right;\">\n",
       "      <th></th>\n",
       "      <th>comments</th>\n",
       "      <th>description</th>\n",
       "      <th>duration</th>\n",
       "      <th>event</th>\n",
       "      <th>film_date</th>\n",
       "      <th>languages</th>\n",
       "      <th>main_speaker</th>\n",
       "      <th>name</th>\n",
       "      <th>num_speaker</th>\n",
       "      <th>published_date</th>\n",
       "      <th>ratings</th>\n",
       "      <th>related_talks</th>\n",
       "      <th>speaker_occupation</th>\n",
       "      <th>tags</th>\n",
       "      <th>title</th>\n",
       "      <th>url</th>\n",
       "      <th>views</th>\n",
       "    </tr>\n",
       "  </thead>\n",
       "  <tbody>\n",
       "    <tr>\n",
       "      <th>0</th>\n",
       "      <td>4553</td>\n",
       "      <td>Sir Ken Robinson makes an entertaining and pro...</td>\n",
       "      <td>1164</td>\n",
       "      <td>TED2006</td>\n",
       "      <td>1140825600</td>\n",
       "      <td>60</td>\n",
       "      <td>Ken Robinson</td>\n",
       "      <td>Ken Robinson: Do schools kill creativity?</td>\n",
       "      <td>1</td>\n",
       "      <td>1151367060</td>\n",
       "      <td>[{'id': 7, 'name': 'Funny', 'count': 19645}, {...</td>\n",
       "      <td>[{'id': 865, 'hero': 'https://pe.tedcdn.com/im...</td>\n",
       "      <td>Author/educator</td>\n",
       "      <td>['children', 'creativity', 'culture', 'dance',...</td>\n",
       "      <td>Do schools kill creativity?</td>\n",
       "      <td>https://www.ted.com/talks/ken_robinson_says_sc...</td>\n",
       "      <td>47227110</td>\n",
       "    </tr>\n",
       "    <tr>\n",
       "      <th>1</th>\n",
       "      <td>265</td>\n",
       "      <td>With the same humor and humanity he exuded in ...</td>\n",
       "      <td>977</td>\n",
       "      <td>TED2006</td>\n",
       "      <td>1140825600</td>\n",
       "      <td>43</td>\n",
       "      <td>Al Gore</td>\n",
       "      <td>Al Gore: Averting the climate crisis</td>\n",
       "      <td>1</td>\n",
       "      <td>1151367060</td>\n",
       "      <td>[{'id': 7, 'name': 'Funny', 'count': 544}, {'i...</td>\n",
       "      <td>[{'id': 243, 'hero': 'https://pe.tedcdn.com/im...</td>\n",
       "      <td>Climate advocate</td>\n",
       "      <td>['alternative energy', 'cars', 'climate change...</td>\n",
       "      <td>Averting the climate crisis</td>\n",
       "      <td>https://www.ted.com/talks/al_gore_on_averting_...</td>\n",
       "      <td>3200520</td>\n",
       "    </tr>\n",
       "    <tr>\n",
       "      <th>2</th>\n",
       "      <td>124</td>\n",
       "      <td>New York Times columnist David Pogue takes aim...</td>\n",
       "      <td>1286</td>\n",
       "      <td>TED2006</td>\n",
       "      <td>1140739200</td>\n",
       "      <td>26</td>\n",
       "      <td>David Pogue</td>\n",
       "      <td>David Pogue: Simplicity sells</td>\n",
       "      <td>1</td>\n",
       "      <td>1151367060</td>\n",
       "      <td>[{'id': 7, 'name': 'Funny', 'count': 964}, {'i...</td>\n",
       "      <td>[{'id': 1725, 'hero': 'https://pe.tedcdn.com/i...</td>\n",
       "      <td>Technology columnist</td>\n",
       "      <td>['computers', 'entertainment', 'interface desi...</td>\n",
       "      <td>Simplicity sells</td>\n",
       "      <td>https://www.ted.com/talks/david_pogue_says_sim...</td>\n",
       "      <td>1636292</td>\n",
       "    </tr>\n",
       "    <tr>\n",
       "      <th>3</th>\n",
       "      <td>200</td>\n",
       "      <td>In an emotionally charged talk, MacArthur-winn...</td>\n",
       "      <td>1116</td>\n",
       "      <td>TED2006</td>\n",
       "      <td>1140912000</td>\n",
       "      <td>35</td>\n",
       "      <td>Majora Carter</td>\n",
       "      <td>Majora Carter: Greening the ghetto</td>\n",
       "      <td>1</td>\n",
       "      <td>1151367060</td>\n",
       "      <td>[{'id': 3, 'name': 'Courageous', 'count': 760}...</td>\n",
       "      <td>[{'id': 1041, 'hero': 'https://pe.tedcdn.com/i...</td>\n",
       "      <td>Activist for environmental justice</td>\n",
       "      <td>['MacArthur grant', 'activism', 'business', 'c...</td>\n",
       "      <td>Greening the ghetto</td>\n",
       "      <td>https://www.ted.com/talks/majora_carter_s_tale...</td>\n",
       "      <td>1697550</td>\n",
       "    </tr>\n",
       "    <tr>\n",
       "      <th>4</th>\n",
       "      <td>593</td>\n",
       "      <td>You've never seen data presented like this. Wi...</td>\n",
       "      <td>1190</td>\n",
       "      <td>TED2006</td>\n",
       "      <td>1140566400</td>\n",
       "      <td>48</td>\n",
       "      <td>Hans Rosling</td>\n",
       "      <td>Hans Rosling: The best stats you've ever seen</td>\n",
       "      <td>1</td>\n",
       "      <td>1151440680</td>\n",
       "      <td>[{'id': 9, 'name': 'Ingenious', 'count': 3202}...</td>\n",
       "      <td>[{'id': 2056, 'hero': 'https://pe.tedcdn.com/i...</td>\n",
       "      <td>Global health expert; data visionary</td>\n",
       "      <td>['Africa', 'Asia', 'Google', 'demo', 'economic...</td>\n",
       "      <td>The best stats you've ever seen</td>\n",
       "      <td>https://www.ted.com/talks/hans_rosling_shows_t...</td>\n",
       "      <td>12005869</td>\n",
       "    </tr>\n",
       "  </tbody>\n",
       "</table>\n",
       "</div>"
      ],
      "text/plain": [
       "   comments                                        description  duration  \\\n",
       "0      4553  Sir Ken Robinson makes an entertaining and pro...      1164   \n",
       "1       265  With the same humor and humanity he exuded in ...       977   \n",
       "2       124  New York Times columnist David Pogue takes aim...      1286   \n",
       "3       200  In an emotionally charged talk, MacArthur-winn...      1116   \n",
       "4       593  You've never seen data presented like this. Wi...      1190   \n",
       "\n",
       "     event   film_date  languages   main_speaker  \\\n",
       "0  TED2006  1140825600         60   Ken Robinson   \n",
       "1  TED2006  1140825600         43        Al Gore   \n",
       "2  TED2006  1140739200         26    David Pogue   \n",
       "3  TED2006  1140912000         35  Majora Carter   \n",
       "4  TED2006  1140566400         48   Hans Rosling   \n",
       "\n",
       "                                            name  num_speaker  published_date  \\\n",
       "0      Ken Robinson: Do schools kill creativity?            1      1151367060   \n",
       "1           Al Gore: Averting the climate crisis            1      1151367060   \n",
       "2                  David Pogue: Simplicity sells            1      1151367060   \n",
       "3             Majora Carter: Greening the ghetto            1      1151367060   \n",
       "4  Hans Rosling: The best stats you've ever seen            1      1151440680   \n",
       "\n",
       "                                             ratings  \\\n",
       "0  [{'id': 7, 'name': 'Funny', 'count': 19645}, {...   \n",
       "1  [{'id': 7, 'name': 'Funny', 'count': 544}, {'i...   \n",
       "2  [{'id': 7, 'name': 'Funny', 'count': 964}, {'i...   \n",
       "3  [{'id': 3, 'name': 'Courageous', 'count': 760}...   \n",
       "4  [{'id': 9, 'name': 'Ingenious', 'count': 3202}...   \n",
       "\n",
       "                                       related_talks  \\\n",
       "0  [{'id': 865, 'hero': 'https://pe.tedcdn.com/im...   \n",
       "1  [{'id': 243, 'hero': 'https://pe.tedcdn.com/im...   \n",
       "2  [{'id': 1725, 'hero': 'https://pe.tedcdn.com/i...   \n",
       "3  [{'id': 1041, 'hero': 'https://pe.tedcdn.com/i...   \n",
       "4  [{'id': 2056, 'hero': 'https://pe.tedcdn.com/i...   \n",
       "\n",
       "                     speaker_occupation  \\\n",
       "0                       Author/educator   \n",
       "1                      Climate advocate   \n",
       "2                  Technology columnist   \n",
       "3    Activist for environmental justice   \n",
       "4  Global health expert; data visionary   \n",
       "\n",
       "                                                tags  \\\n",
       "0  ['children', 'creativity', 'culture', 'dance',...   \n",
       "1  ['alternative energy', 'cars', 'climate change...   \n",
       "2  ['computers', 'entertainment', 'interface desi...   \n",
       "3  ['MacArthur grant', 'activism', 'business', 'c...   \n",
       "4  ['Africa', 'Asia', 'Google', 'demo', 'economic...   \n",
       "\n",
       "                             title  \\\n",
       "0      Do schools kill creativity?   \n",
       "1      Averting the climate crisis   \n",
       "2                 Simplicity sells   \n",
       "3              Greening the ghetto   \n",
       "4  The best stats you've ever seen   \n",
       "\n",
       "                                                 url     views  \n",
       "0  https://www.ted.com/talks/ken_robinson_says_sc...  47227110  \n",
       "1  https://www.ted.com/talks/al_gore_on_averting_...   3200520  \n",
       "2  https://www.ted.com/talks/david_pogue_says_sim...   1636292  \n",
       "3  https://www.ted.com/talks/majora_carter_s_tale...   1697550  \n",
       "4  https://www.ted.com/talks/hans_rosling_shows_t...  12005869  "
      ]
     },
     "execution_count": 2,
     "metadata": {},
     "output_type": "execute_result"
    }
   ],
   "source": [
    "ted_df = pd.read_csv('ted_main.csv')\n",
    "ted_df.head()"
   ]
  },
  {
   "cell_type": "markdown",
   "id": "aae16ac5",
   "metadata": {},
   "source": [
    "### How many rows and columns does the data have?"
   ]
  },
  {
   "cell_type": "code",
   "execution_count": 3,
   "id": "0e152a29",
   "metadata": {},
   "outputs": [
    {
     "data": {
      "text/plain": [
       "(2550, 17)"
      ]
     },
     "execution_count": 3,
     "metadata": {},
     "output_type": "execute_result"
    }
   ],
   "source": [
    "n_rows, n_cols = ted_df.shape\n",
    "n_rows, n_cols"
   ]
  },
  {
   "cell_type": "markdown",
   "id": "74b1c21b",
   "metadata": {},
   "source": [
    "### What is the meaning of each row?"
   ]
  },
  {
   "cell_type": "markdown",
   "id": "abc121a9",
   "metadata": {},
   "source": [
    "Each row represents for a video/audio on ted.com"
   ]
  },
  {
   "cell_type": "markdown",
   "id": "e3df022a",
   "metadata": {},
   "source": [
    "### Are there duplicated rows"
   ]
  },
  {
   "cell_type": "code",
   "execution_count": 4,
   "id": "4cd80c33",
   "metadata": {},
   "outputs": [
    {
     "data": {
      "text/plain": [
       "False"
      ]
     },
     "execution_count": 4,
     "metadata": {},
     "output_type": "execute_result"
    }
   ],
   "source": [
    "ted_df.duplicated().any()"
   ]
  },
  {
   "cell_type": "markdown",
   "id": "78d1e61a",
   "metadata": {},
   "source": [
    "### What is the meaning of each column?"
   ]
  },
  {
   "cell_type": "markdown",
   "id": "850812b5",
   "metadata": {},
   "source": [
    "There are the description of each column in [kaggle.](https://www.kaggle.com/rounakbanik/ted-talks?select=ted_main.csv)\n",
    "\n",
    "- **comments**: The number of first level comments made on the talk\n",
    "- **description**: A blurb of what the talk is about\n",
    "- **duration**: The duration of the talk in seconds\n",
    "- **event**: The TED/TEDx event where the talk took place\n",
    "- **film_date**: The Unix timestamp of filming\n",
    "- **languages**: The number of languages in which the talk is available\n",
    "- **main_speaker**: The first named speaker of the talk\n",
    "- **name**: The official name of the TED Talk. Includes the title and speaker\n",
    "- **num_speaker**: The number of speakers in the talk\n",
    "- **published_date**: The Unix timestamp for the publication of the talk on TED.com\n",
    "- **ratings**: A stringified dictionary of the various ratings given to the talk (inspiring, fascinating, jaw dropping, etc.)\n",
    "- **related_talk**: A list of dictionaries of recommended talks to watch next\n",
    "- **speaker_occupation**: The occupation of the main speaker\n",
    "- **tags**: The themes associated with the talk\n",
    "- **title**: The title of the talk\n",
    "- **url**: The URL of the talk\n",
    "- **views**: The number of views on the talk"
   ]
  },
  {
   "cell_type": "markdown",
   "id": "980747a0",
   "metadata": {},
   "source": [
    "### What is the current data type of each column? Are there columns having inappropriate data types?"
   ]
  },
  {
   "cell_type": "code",
   "execution_count": 5,
   "id": "b165ef79",
   "metadata": {},
   "outputs": [
    {
     "data": {
      "text/plain": [
       "comments               int64\n",
       "description           object\n",
       "duration               int64\n",
       "event                 object\n",
       "film_date              int64\n",
       "languages              int64\n",
       "main_speaker          object\n",
       "name                  object\n",
       "num_speaker            int64\n",
       "published_date         int64\n",
       "ratings               object\n",
       "related_talks         object\n",
       "speaker_occupation    object\n",
       "tags                  object\n",
       "title                 object\n",
       "url                   object\n",
       "views                  int64\n",
       "dtype: object"
      ]
     },
     "execution_count": 5,
     "metadata": {},
     "output_type": "execute_result"
    }
   ],
   "source": [
    "col_dtypes = ted_df.dtypes\n",
    "col_dtypes"
   ]
  },
  {
   "cell_type": "markdown",
   "id": "bd8297c5",
   "metadata": {},
   "source": [
    "`ted_df` has 10 columns which have `object` data types:\n",
    "- \"description\",\"event\",\"main_speaker\",\"name\",\"ratings\",\"related_talks\",\"speaker_occupation\",\"tags\",\"title\",\"url\".\n",
    "- However, \n",
    "    - \"ratings\" now is a string `{'id': 7, 'name': 'Funny', 'count': 19645}`, need to convert to list of dictionary\n",
    "    - \"tags\" now is a string, but actually it's a list.\n",
    "- \"film_date\" and \"published_date\" is `int64` data type."
   ]
  },
  {
   "cell_type": "markdown",
   "id": "c5d4996b",
   "metadata": {},
   "source": [
    "### With each numerical column\n",
    "- What is the percentage of missing values?\n",
    "- Min? max? Are they abnormal?"
   ]
  },
  {
   "cell_type": "markdown",
   "id": "22f6393d",
   "metadata": {},
   "source": [
    "### Transform the data type of \"film_date\" and \"published_date\" to dataframe"
   ]
  },
  {
   "cell_type": "code",
   "execution_count": 6,
   "id": "e9bcae17",
   "metadata": {},
   "outputs": [],
   "source": [
    "ted_df['film_date'] = pd.to_datetime(ted_df['film_date'],unit='s')\n",
    "ted_df['published_date'] = pd.to_datetime(ted_df['published_date'],unit='s')"
   ]
  },
  {
   "cell_type": "markdown",
   "id": "b524c002",
   "metadata": {},
   "source": [
    "**Convert to list function**"
   ]
  },
  {
   "cell_type": "code",
   "execution_count": 7,
   "id": "5d1f4a7f",
   "metadata": {},
   "outputs": [],
   "source": [
    "def convert_to_list(x):\n",
    "    return ast.literal_eval(x)"
   ]
  },
  {
   "cell_type": "markdown",
   "id": "2041aad1",
   "metadata": {},
   "source": [
    "### Transform the data type of \"ratings\" to list of dict"
   ]
  },
  {
   "cell_type": "code",
   "execution_count": 8,
   "id": "95c02f3c",
   "metadata": {},
   "outputs": [],
   "source": [
    "ted_df['ratings'] = ted_df['ratings'].apply(lambda x : convert_to_list(x))"
   ]
  },
  {
   "cell_type": "code",
   "execution_count": 9,
   "id": "54e097e5",
   "metadata": {
    "scrolled": true
   },
   "outputs": [],
   "source": [
    "def get_total_ratings(x):\n",
    "    total = 0\n",
    "    for i in x:\n",
    "        total = total + i['count']\n",
    "    return total\n",
    "ted_df['total_ratings'] = ted_df['ratings'].apply(lambda x : get_total_ratings(x))"
   ]
  },
  {
   "cell_type": "code",
   "execution_count": 10,
   "id": "9d260492",
   "metadata": {
    "scrolled": true
   },
   "outputs": [
    {
     "data": {
      "text/html": [
       "<div>\n",
       "<style scoped>\n",
       "    .dataframe tbody tr th:only-of-type {\n",
       "        vertical-align: middle;\n",
       "    }\n",
       "\n",
       "    .dataframe tbody tr th {\n",
       "        vertical-align: top;\n",
       "    }\n",
       "\n",
       "    .dataframe thead th {\n",
       "        text-align: right;\n",
       "    }\n",
       "</style>\n",
       "<table border=\"1\" class=\"dataframe\">\n",
       "  <thead>\n",
       "    <tr style=\"text-align: right;\">\n",
       "      <th></th>\n",
       "      <th>comments</th>\n",
       "      <th>film_date</th>\n",
       "      <th>duration</th>\n",
       "      <th>languages</th>\n",
       "      <th>num_speaker</th>\n",
       "      <th>published_date</th>\n",
       "      <th>views</th>\n",
       "      <th>total_ratings</th>\n",
       "    </tr>\n",
       "  </thead>\n",
       "  <tbody>\n",
       "    <tr>\n",
       "      <th>missing_ratio</th>\n",
       "      <td>0.0</td>\n",
       "      <td>0.0</td>\n",
       "      <td>0.0</td>\n",
       "      <td>0.0</td>\n",
       "      <td>0.0</td>\n",
       "      <td>0.0</td>\n",
       "      <td>0.0</td>\n",
       "      <td>0.0</td>\n",
       "    </tr>\n",
       "    <tr>\n",
       "      <th>min</th>\n",
       "      <td>2.0</td>\n",
       "      <td>1972-05-14 00:00:00</td>\n",
       "      <td>135.0</td>\n",
       "      <td>0.0</td>\n",
       "      <td>1.0</td>\n",
       "      <td>2006-06-27 00:11:00</td>\n",
       "      <td>50443.0</td>\n",
       "      <td>68.0</td>\n",
       "    </tr>\n",
       "    <tr>\n",
       "      <th>max</th>\n",
       "      <td>6404.0</td>\n",
       "      <td>2017-08-27 00:00:00</td>\n",
       "      <td>5256.0</td>\n",
       "      <td>72.0</td>\n",
       "      <td>5.0</td>\n",
       "      <td>2017-09-22 15:00:22</td>\n",
       "      <td>47227110.0</td>\n",
       "      <td>93850.0</td>\n",
       "    </tr>\n",
       "  </tbody>\n",
       "</table>\n",
       "</div>"
      ],
      "text/plain": [
       "               comments            film_date  duration  languages  \\\n",
       "missing_ratio       0.0                  0.0       0.0        0.0   \n",
       "min                 2.0  1972-05-14 00:00:00     135.0        0.0   \n",
       "max              6404.0  2017-08-27 00:00:00    5256.0       72.0   \n",
       "\n",
       "               num_speaker       published_date       views  total_ratings  \n",
       "missing_ratio          0.0                  0.0         0.0            0.0  \n",
       "min                    1.0  2006-06-27 00:11:00     50443.0           68.0  \n",
       "max                    5.0  2017-09-22 15:00:22  47227110.0        93850.0  "
      ]
     },
     "execution_count": 10,
     "metadata": {},
     "output_type": "execute_result"
    }
   ],
   "source": [
    "def missing_ratio(s):\n",
    "    return s.isna().mean()*100\n",
    "num_cols = ted_df[['comments','film_date','duration','languages','num_speaker','published_date','views','total_ratings']]\n",
    "num_col_profiles_df = num_cols.agg([missing_ratio,pd.Series.min,pd.Series.max])\n",
    "num_col_profiles_df"
   ]
  },
  {
   "cell_type": "markdown",
   "id": "dfbc4fa3",
   "metadata": {},
   "source": [
    "min, max are not abnormal."
   ]
  },
  {
   "cell_type": "markdown",
   "id": "be2892d5",
   "metadata": {},
   "source": [
    "### With each categorical column\n",
    "- What is the percentage of missing values?\n",
    "- How many different values? Show a few\n",
    "- Are they abnormal?"
   ]
  },
  {
   "cell_type": "code",
   "execution_count": 11,
   "id": "0b9a6e76",
   "metadata": {},
   "outputs": [
    {
     "data": {
      "text/html": [
       "<div>\n",
       "<style scoped>\n",
       "    .dataframe tbody tr th:only-of-type {\n",
       "        vertical-align: middle;\n",
       "    }\n",
       "\n",
       "    .dataframe tbody tr th {\n",
       "        vertical-align: top;\n",
       "    }\n",
       "\n",
       "    .dataframe thead th {\n",
       "        text-align: right;\n",
       "    }\n",
       "</style>\n",
       "<table border=\"1\" class=\"dataframe\">\n",
       "  <thead>\n",
       "    <tr style=\"text-align: right;\">\n",
       "      <th></th>\n",
       "      <th>description</th>\n",
       "      <th>event</th>\n",
       "      <th>main_speaker</th>\n",
       "      <th>name</th>\n",
       "      <th>related_talks</th>\n",
       "      <th>speaker_occupation</th>\n",
       "      <th>tags</th>\n",
       "      <th>title</th>\n",
       "      <th>url</th>\n",
       "    </tr>\n",
       "  </thead>\n",
       "  <tbody>\n",
       "    <tr>\n",
       "      <th>missing_ratio</th>\n",
       "      <td>0.0</td>\n",
       "      <td>0.0</td>\n",
       "      <td>0.0</td>\n",
       "      <td>0.0</td>\n",
       "      <td>0.0</td>\n",
       "      <td>0.235294</td>\n",
       "      <td>0.0</td>\n",
       "      <td>0.0</td>\n",
       "      <td>0.0</td>\n",
       "    </tr>\n",
       "    <tr>\n",
       "      <th>num_diff_vals</th>\n",
       "      <td>2550</td>\n",
       "      <td>355</td>\n",
       "      <td>2156</td>\n",
       "      <td>2550</td>\n",
       "      <td>2550</td>\n",
       "      <td>1458</td>\n",
       "      <td>2530</td>\n",
       "      <td>2550</td>\n",
       "      <td>2550</td>\n",
       "    </tr>\n",
       "    <tr>\n",
       "      <th>diff_vals</th>\n",
       "      <td>[Sir Ken Robinson makes an entertaining and pr...</td>\n",
       "      <td>[TED2006, TED2004, TED2005, TEDGlobal 2005, TE...</td>\n",
       "      <td>[Ken Robinson, Al Gore, David Pogue, Majora Ca...</td>\n",
       "      <td>[Ken Robinson: Do schools kill creativity?, Al...</td>\n",
       "      <td>[[{'id': 865, 'hero': 'https://pe.tedcdn.com/i...</td>\n",
       "      <td>[Author/educator, Climate advocate, Technology...</td>\n",
       "      <td>[['children', 'creativity', 'culture', 'dance'...</td>\n",
       "      <td>[Do schools kill creativity?, Averting the cli...</td>\n",
       "      <td>[https://www.ted.com/talks/ken_robinson_says_s...</td>\n",
       "    </tr>\n",
       "  </tbody>\n",
       "</table>\n",
       "</div>"
      ],
      "text/plain": [
       "                                                     description  \\\n",
       "missing_ratio                                                0.0   \n",
       "num_diff_vals                                               2550   \n",
       "diff_vals      [Sir Ken Robinson makes an entertaining and pr...   \n",
       "\n",
       "                                                           event  \\\n",
       "missing_ratio                                                0.0   \n",
       "num_diff_vals                                                355   \n",
       "diff_vals      [TED2006, TED2004, TED2005, TEDGlobal 2005, TE...   \n",
       "\n",
       "                                                    main_speaker  \\\n",
       "missing_ratio                                                0.0   \n",
       "num_diff_vals                                               2156   \n",
       "diff_vals      [Ken Robinson, Al Gore, David Pogue, Majora Ca...   \n",
       "\n",
       "                                                            name  \\\n",
       "missing_ratio                                                0.0   \n",
       "num_diff_vals                                               2550   \n",
       "diff_vals      [Ken Robinson: Do schools kill creativity?, Al...   \n",
       "\n",
       "                                                   related_talks  \\\n",
       "missing_ratio                                                0.0   \n",
       "num_diff_vals                                               2550   \n",
       "diff_vals      [[{'id': 865, 'hero': 'https://pe.tedcdn.com/i...   \n",
       "\n",
       "                                              speaker_occupation  \\\n",
       "missing_ratio                                           0.235294   \n",
       "num_diff_vals                                               1458   \n",
       "diff_vals      [Author/educator, Climate advocate, Technology...   \n",
       "\n",
       "                                                            tags  \\\n",
       "missing_ratio                                                0.0   \n",
       "num_diff_vals                                               2530   \n",
       "diff_vals      [['children', 'creativity', 'culture', 'dance'...   \n",
       "\n",
       "                                                           title  \\\n",
       "missing_ratio                                                0.0   \n",
       "num_diff_vals                                               2550   \n",
       "diff_vals      [Do schools kill creativity?, Averting the cli...   \n",
       "\n",
       "                                                             url  \n",
       "missing_ratio                                                0.0  \n",
       "num_diff_vals                                               2550  \n",
       "diff_vals      [https://www.ted.com/talks/ken_robinson_says_s...  "
      ]
     },
     "execution_count": 11,
     "metadata": {},
     "output_type": "execute_result"
    }
   ],
   "source": [
    "def unique_not_nan(s):\n",
    "    return s.dropna().unique()\n",
    "cate_cols = ted_df[[\"description\",\"event\",\n",
    "                    \"main_speaker\",\"name\",\"related_talks\",\n",
    "                    \"speaker_occupation\",\n",
    "                    \"tags\",\"title\",\"url\"]]\n",
    "cate_col_profiles_df = cate_cols.agg([missing_ratio,pd.Series.nunique,unique_not_nan])\n",
    "cate_col_profiles_df.index = [\"missing_ratio\", \"num_diff_vals\", \"diff_vals\"]\n",
    "cate_col_profiles_df"
   ]
  },
  {
   "cell_type": "code",
   "execution_count": 12,
   "id": "626cb568",
   "metadata": {},
   "outputs": [
    {
     "data": {
      "text/html": [
       "<div>\n",
       "<style scoped>\n",
       "    .dataframe tbody tr th:only-of-type {\n",
       "        vertical-align: middle;\n",
       "    }\n",
       "\n",
       "    .dataframe tbody tr th {\n",
       "        vertical-align: top;\n",
       "    }\n",
       "\n",
       "    .dataframe thead th {\n",
       "        text-align: right;\n",
       "    }\n",
       "</style>\n",
       "<table border=\"1\" class=\"dataframe\">\n",
       "  <thead>\n",
       "    <tr style=\"text-align: right;\">\n",
       "      <th></th>\n",
       "      <th>comments</th>\n",
       "      <th>description</th>\n",
       "      <th>duration</th>\n",
       "      <th>event</th>\n",
       "      <th>film_date</th>\n",
       "      <th>languages</th>\n",
       "      <th>main_speaker</th>\n",
       "      <th>name</th>\n",
       "      <th>num_speaker</th>\n",
       "      <th>published_date</th>\n",
       "      <th>ratings</th>\n",
       "      <th>related_talks</th>\n",
       "      <th>speaker_occupation</th>\n",
       "      <th>tags</th>\n",
       "      <th>title</th>\n",
       "      <th>url</th>\n",
       "      <th>views</th>\n",
       "      <th>total_ratings</th>\n",
       "    </tr>\n",
       "  </thead>\n",
       "  <tbody>\n",
       "    <tr>\n",
       "      <th>1976</th>\n",
       "      <td>109</td>\n",
       "      <td>Roman Mars is obsessed with flags -- and after...</td>\n",
       "      <td>1098</td>\n",
       "      <td>TED2015</td>\n",
       "      <td>2015-03-25</td>\n",
       "      <td>23</td>\n",
       "      <td>Roman Mars</td>\n",
       "      <td>Roman Mars: Why city flags may be the worst-de...</td>\n",
       "      <td>1</td>\n",
       "      <td>2015-05-14 15:12:54</td>\n",
       "      <td>[{'id': 25, 'name': 'OK', 'count': 132}, {'id'...</td>\n",
       "      <td>[{'id': 43, 'hero': 'https://pe.tedcdn.com/ima...</td>\n",
       "      <td>Digital storyteller</td>\n",
       "      <td>['cities', 'design', 'government', 'humor', 'p...</td>\n",
       "      <td>Why city flags may be the worst-designed thing...</td>\n",
       "      <td>https://www.ted.com/talks/roman_mars_why_city_...</td>\n",
       "      <td>4597270</td>\n",
       "      <td>2748</td>\n",
       "    </tr>\n",
       "    <tr>\n",
       "      <th>889</th>\n",
       "      <td>239</td>\n",
       "      <td>We think of space as a silent place. But physi...</td>\n",
       "      <td>1063</td>\n",
       "      <td>TED2011</td>\n",
       "      <td>2011-03-01</td>\n",
       "      <td>30</td>\n",
       "      <td>Janna Levin</td>\n",
       "      <td>Janna Levin: The sound the universe makes</td>\n",
       "      <td>1</td>\n",
       "      <td>2011-03-15 14:09:00</td>\n",
       "      <td>[{'id': 1, 'name': 'Beautiful', 'count': 183},...</td>\n",
       "      <td>[{'id': 326, 'hero': 'https://pe.tedcdn.com/im...</td>\n",
       "      <td>Physicist</td>\n",
       "      <td>['dark matter', 'science', 'universe']</td>\n",
       "      <td>The sound the universe makes</td>\n",
       "      <td>https://www.ted.com/talks/janna_levin_the_soun...</td>\n",
       "      <td>1119772</td>\n",
       "      <td>1878</td>\n",
       "    </tr>\n",
       "  </tbody>\n",
       "</table>\n",
       "</div>"
      ],
      "text/plain": [
       "      comments                                        description  duration  \\\n",
       "1976       109  Roman Mars is obsessed with flags -- and after...      1098   \n",
       "889        239  We think of space as a silent place. But physi...      1063   \n",
       "\n",
       "        event  film_date  languages main_speaker  \\\n",
       "1976  TED2015 2015-03-25         23   Roman Mars   \n",
       "889   TED2011 2011-03-01         30  Janna Levin   \n",
       "\n",
       "                                                   name  num_speaker  \\\n",
       "1976  Roman Mars: Why city flags may be the worst-de...            1   \n",
       "889           Janna Levin: The sound the universe makes            1   \n",
       "\n",
       "          published_date                                            ratings  \\\n",
       "1976 2015-05-14 15:12:54  [{'id': 25, 'name': 'OK', 'count': 132}, {'id'...   \n",
       "889  2011-03-15 14:09:00  [{'id': 1, 'name': 'Beautiful', 'count': 183},...   \n",
       "\n",
       "                                          related_talks   speaker_occupation  \\\n",
       "1976  [{'id': 43, 'hero': 'https://pe.tedcdn.com/ima...  Digital storyteller   \n",
       "889   [{'id': 326, 'hero': 'https://pe.tedcdn.com/im...            Physicist   \n",
       "\n",
       "                                                   tags  \\\n",
       "1976  ['cities', 'design', 'government', 'humor', 'p...   \n",
       "889              ['dark matter', 'science', 'universe']   \n",
       "\n",
       "                                                  title  \\\n",
       "1976  Why city flags may be the worst-designed thing...   \n",
       "889                        The sound the universe makes   \n",
       "\n",
       "                                                    url    views  \\\n",
       "1976  https://www.ted.com/talks/roman_mars_why_city_...  4597270   \n",
       "889   https://www.ted.com/talks/janna_levin_the_soun...  1119772   \n",
       "\n",
       "      total_ratings  \n",
       "1976           2748  \n",
       "889            1878  "
      ]
     },
     "execution_count": 12,
     "metadata": {},
     "output_type": "execute_result"
    }
   ],
   "source": [
    "ted_df.sample(2)"
   ]
  },
  {
   "cell_type": "markdown",
   "id": "4d274440",
   "metadata": {},
   "source": [
    "## 3. Asking meaningful questions"
   ]
  },
  {
   "cell_type": "markdown",
   "id": "63cd7756",
   "metadata": {},
   "source": [
    "- What is the question?\n",
    "- What are benefits of finding the answer?\n",
    "- What is the most popular subject in each year?\n",
    "\n",
    "1. How is the distribution of the number of events over the years? Anything unusual? make a comment.\n",
    "2. Which profession will have the most views when giving a presentation? Does that view depend on the character's reputation, money, or status?\n",
    "3. Which video has the most video through each year?\n",
    "4. The distribution of video genres by year? From there draw comments."
   ]
  },
  {
   "cell_type": "markdown",
   "id": "01a8c7c3",
   "metadata": {},
   "source": [
    "## 4. Preprocessing + analyzing data to answer each question"
   ]
  },
  {
   "cell_type": "markdown",
   "id": "9f5ac6d0",
   "metadata": {},
   "source": [
    "### Transform the data type of \"tags\" to list"
   ]
  },
  {
   "cell_type": "code",
   "execution_count": 13,
   "id": "21c1c6b5",
   "metadata": {},
   "outputs": [],
   "source": [
    "ted_df['tags'] = ted_df['tags'].apply(lambda x: convert_to_list(x))"
   ]
  },
  {
   "cell_type": "markdown",
   "id": "b8ec457a",
   "metadata": {},
   "source": [
    "### Add published year column"
   ]
  },
  {
   "cell_type": "code",
   "execution_count": 14,
   "id": "d56cfcf5",
   "metadata": {},
   "outputs": [],
   "source": [
    "ted_df['Year_published'] = ted_df['published_date'].dt.year"
   ]
  },
  {
   "cell_type": "markdown",
   "id": "56473619",
   "metadata": {},
   "source": [
    "#### 1. How is the distribution of the number of events over the years? Anything unusual? make a comment."
   ]
  },
  {
   "cell_type": "code",
   "execution_count": 15,
   "id": "2a67c0fc",
   "metadata": {},
   "outputs": [
    {
     "data": {
      "image/png": "[encoded data removed]",
      "text/plain": [
       "<Figure size 432x288 with 1 Axes>"
      ]
     },
     "metadata": {
      "needs_background": "light"
     },
     "output_type": "display_data"
    }
   ],
   "source": [
    "Q1 = ted_df.groupby('Year_published')['event'].count()\n",
    "Q1.plot.line(ylabel = 'Number Events', xlabel = 'Year', marker='o');"
   ]
  },
  {
   "cell_type": "markdown",
   "id": "cead4bc7",
   "metadata": {},
   "source": [
    "#### 2. Which profession will have the most views when giving a presentation? Does that view depend on the character's reputation, money, or status?"
   ]
  },
  {
   "cell_type": "code",
   "execution_count": null,
   "id": "4ea0838f",
   "metadata": {},
   "outputs": [],
   "source": []
  },
  {
   "cell_type": "markdown",
   "id": "15bdf3b0",
   "metadata": {},
   "source": [
    "### Data processing (continue): Ratings"
   ]
  },
  {
   "cell_type": "markdown",
   "id": "e8685a9a",
   "metadata": {},
   "source": [
    "**Distribution of the number of ratings for video**"
   ]
  },
  {
   "cell_type": "code",
   "execution_count": 16,
   "id": "0137a860",
   "metadata": {},
   "outputs": [],
   "source": [
    "def arr_name(x):\n",
    "    a = []\n",
    "    for i in x:\n",
    "       \n",
    "        a.append(i['name'])\n",
    "    return a\n",
    "ted_df['list_name_rating'] = ted_df['ratings'].apply(lambda x : arr_name(x))"
   ]
  },
  {
   "cell_type": "code",
   "execution_count": 17,
   "id": "7ee33683",
   "metadata": {
    "scrolled": true
   },
   "outputs": [
    {
     "data": {
      "text/plain": [
       "name_rating\n",
       "Beautiful       2550\n",
       "Confusing       2550\n",
       "Courageous      2550\n",
       "Fascinating     2550\n",
       "Funny           2550\n",
       "Informative     2550\n",
       "Ingenious       2550\n",
       "Inspiring       2550\n",
       "Jaw-dropping    2550\n",
       "Longwinded      2550\n",
       "OK              2550\n",
       "Obnoxious       2550\n",
       "Persuasive      2550\n",
       "Unconvincing    2550\n",
       "dtype: int64"
      ]
     },
     "execution_count": 17,
     "metadata": {},
     "output_type": "execute_result"
    }
   ],
   "source": [
    "df_ratings = ted_df.apply(lambda x: pd.Series(x['list_name_rating']),axis=1).stack().reset_index(level=1,drop=True)\n",
    "df_ratings.name = 'name_rating'\n",
    "df_ratings  = ted_df.join(df_ratings)\n",
    "df_ratings.value_counts('name_rating')"
   ]
  },
  {
   "cell_type": "markdown",
   "id": "fc4483d7",
   "metadata": {},
   "source": [
    "- As we can see, the distribution of the number of kind of ratings for each video is even. And we have 14 kinds of ratings for the video:\n",
    "    - `Beautiful, Courageous, Fascinating, Funny, Informative, Ingenious, Inspiring, Jaw-dropping, OK, Persuasive` are a positive ratings.\n",
    "    - `Confusing, Longwinded, Obnoxious, Unconvincing` are a negative ratings.\n"
   ]
  },
  {
   "cell_type": "markdown",
   "id": "42ba456b",
   "metadata": {},
   "source": [
    "#### 3. Ranking kinds of rating for video\n",
    "- Step 1: Add column which is a counting of each rating for each video\n",
    "- Step 2: Calculate the sum of each column (kinds of rating)\n",
    "- Step 3: Visualize with bar horizontal"
   ]
  },
  {
   "cell_type": "markdown",
   "id": "f5a1b280",
   "metadata": {},
   "source": [
    "**Step 1:** Add column which is a counting of each rating for each video"
   ]
  },
  {
   "cell_type": "code",
   "execution_count": 18,
   "id": "2957a58d",
   "metadata": {},
   "outputs": [],
   "source": [
    "def count_rating(x,column):\n",
    "    for i in x:\n",
    "        if i['name'] == column:\n",
    "            return i['count']\n",
    "name_columns = df_ratings.value_counts('name_rating').index\n",
    "for i_name in name_columns:\n",
    "    ted_df[f'{i_name}_ratings'] = ted_df['ratings'].apply(lambda x: count_rating(x,i_name))"
   ]
  },
  {
   "cell_type": "markdown",
   "id": "1f3520f8",
   "metadata": {},
   "source": [
    "**Step 2:** Calculate the sum of each column (kinds of rating) and sort dictionary `a`"
   ]
  },
  {
   "cell_type": "code",
   "execution_count": 19,
   "id": "a86901fb",
   "metadata": {},
   "outputs": [],
   "source": [
    "a = {}\n",
    "for i_name in name_columns:\n",
    "    a[f'{i_name}'] = ted_df[f'{i_name}_ratings'].sum()\n",
    "a = dict(sorted(a.items(), key=lambda item: item[1]))"
   ]
  },
  {
   "cell_type": "markdown",
   "id": "2885f4bb",
   "metadata": {},
   "source": [
    "**Step 3:** Visualize with bar horizontal"
   ]
  },
  {
   "cell_type": "code",
   "execution_count": 20,
   "id": "1f3a35b4",
   "metadata": {},
   "outputs": [
    {
     "data": {
      "image/png": "[encoded data removed]",
      "text/plain": [
       "<Figure size 432x288 with 1 Axes>"
      ]
     },
     "metadata": {
      "needs_background": "light"
     },
     "output_type": "display_data"
    }
   ],
   "source": [
    "def millions(x, pos):\n",
    "    return '{:1.1f}M'.format(x*1e-6)\n",
    "fig, ax = plt.subplots()\n",
    "ax.xaxis.set_major_formatter(millions)\n",
    "ax.barh(list(a.keys()),list(a.values()))\n",
    "plt.xlabel('Total ratings')\n",
    "plt.ylabel('Kind of rating')\n",
    "plt.xticks([0,250000,500000,750000,1000000,1250000,1500000])\n",
    "plt.show()\n"
   ]
  },
  {
   "cell_type": "markdown",
   "id": "7a4172d3",
   "metadata": {},
   "source": [
    "**Comment:**\n",
    "- Most of the video on `ted.com` have a good content to inspire, give a lot of information for everybody, ...\n",
    "- A little video have longwinded, unconvincing, obnoxious, confusing.\n",
    "- However, I think `ted.com` is a powerful website for everybody to learn new things or entertain."
   ]
  },
  {
   "cell_type": "markdown",
   "id": "72ef4048",
   "metadata": {},
   "source": [
    "#### 4. Which video has the most ratings of inspiring through each year?\n",
    "---**Step to deal with this question**---\n",
    "\n",
    "- Step 1: Group by `Year_published` and `title`\n",
    "- Step 2: Unstack the data grouped by with each column is the number of inspiring ratings by year published of each video\n",
    "- Step 3: Find the highest ratings of video in year\n"
   ]
  },
  {
   "cell_type": "code",
   "execution_count": 21,
   "id": "ebea655a",
   "metadata": {
    "scrolled": false
   },
   "outputs": [
    {
     "data": {
      "text/html": [
       "<div>\n",
       "<style scoped>\n",
       "    .dataframe tbody tr th:only-of-type {\n",
       "        vertical-align: middle;\n",
       "    }\n",
       "\n",
       "    .dataframe tbody tr th {\n",
       "        vertical-align: top;\n",
       "    }\n",
       "\n",
       "    .dataframe thead th {\n",
       "        text-align: right;\n",
       "    }\n",
       "</style>\n",
       "<table border=\"1\" class=\"dataframe\">\n",
       "  <thead>\n",
       "    <tr style=\"text-align: right;\">\n",
       "      <th></th>\n",
       "      <th>title</th>\n",
       "      <th>Year_published</th>\n",
       "      <th>Inspiring_ratings</th>\n",
       "    </tr>\n",
       "  </thead>\n",
       "  <tbody>\n",
       "    <tr>\n",
       "      <th>0</th>\n",
       "      <td>Do schools kill creativity?</td>\n",
       "      <td>2006</td>\n",
       "      <td>24924</td>\n",
       "    </tr>\n",
       "    <tr>\n",
       "      <th>1</th>\n",
       "      <td>The habits of happiness</td>\n",
       "      <td>2007</td>\n",
       "      <td>3774</td>\n",
       "    </tr>\n",
       "    <tr>\n",
       "      <th>2</th>\n",
       "      <td>My stroke of insight</td>\n",
       "      <td>2008</td>\n",
       "      <td>16918</td>\n",
       "    </tr>\n",
       "    <tr>\n",
       "      <th>3</th>\n",
       "      <td>The danger of a single story</td>\n",
       "      <td>2009</td>\n",
       "      <td>9566</td>\n",
       "    </tr>\n",
       "    <tr>\n",
       "      <th>4</th>\n",
       "      <td>How great leaders inspire action</td>\n",
       "      <td>2010</td>\n",
       "      <td>21564</td>\n",
       "    </tr>\n",
       "    <tr>\n",
       "      <th>5</th>\n",
       "      <td>How to live before you die</td>\n",
       "      <td>2011</td>\n",
       "      <td>17290</td>\n",
       "    </tr>\n",
       "    <tr>\n",
       "      <th>6</th>\n",
       "      <td>Your body language may shape who you are</td>\n",
       "      <td>2012</td>\n",
       "      <td>21210</td>\n",
       "    </tr>\n",
       "    <tr>\n",
       "      <th>7</th>\n",
       "      <td>Every kid needs a champion</td>\n",
       "      <td>2013</td>\n",
       "      <td>5946</td>\n",
       "    </tr>\n",
       "    <tr>\n",
       "      <th>8</th>\n",
       "      <td>Why good leaders make you feel safe</td>\n",
       "      <td>2014</td>\n",
       "      <td>8569</td>\n",
       "    </tr>\n",
       "    <tr>\n",
       "      <th>9</th>\n",
       "      <td>Why we all need to practice emotional first aid</td>\n",
       "      <td>2015</td>\n",
       "      <td>13398</td>\n",
       "    </tr>\n",
       "    <tr>\n",
       "      <th>10</th>\n",
       "      <td>Inside the mind of a master procrastinator</td>\n",
       "      <td>2016</td>\n",
       "      <td>4387</td>\n",
       "    </tr>\n",
       "    <tr>\n",
       "      <th>11</th>\n",
       "      <td>Thoughts on humanity, fame and love</td>\n",
       "      <td>2017</td>\n",
       "      <td>3984</td>\n",
       "    </tr>\n",
       "  </tbody>\n",
       "</table>\n",
       "</div>"
      ],
      "text/plain": [
       "                                              title  Year_published  \\\n",
       "0                       Do schools kill creativity?            2006   \n",
       "1                           The habits of happiness            2007   \n",
       "2                              My stroke of insight            2008   \n",
       "3                      The danger of a single story            2009   \n",
       "4                  How great leaders inspire action            2010   \n",
       "5                        How to live before you die            2011   \n",
       "6          Your body language may shape who you are            2012   \n",
       "7                        Every kid needs a champion            2013   \n",
       "8               Why good leaders make you feel safe            2014   \n",
       "9   Why we all need to practice emotional first aid            2015   \n",
       "10       Inside the mind of a master procrastinator            2016   \n",
       "11              Thoughts on humanity, fame and love            2017   \n",
       "\n",
       "    Inspiring_ratings  \n",
       "0               24924  \n",
       "1                3774  \n",
       "2               16918  \n",
       "3                9566  \n",
       "4               21564  \n",
       "5               17290  \n",
       "6               21210  \n",
       "7                5946  \n",
       "8                8569  \n",
       "9               13398  \n",
       "10               4387  \n",
       "11               3984  "
      ]
     },
     "execution_count": 21,
     "metadata": {},
     "output_type": "execute_result"
    }
   ],
   "source": [
    "ratings = ted_df[['Year_published','title','Inspiring_ratings']]\n",
    "most_video_by_year = ratings.groupby(['Year_published','title']).sum()\n",
    "most_video_by_year = most_video_by_year.unstack(0)\n",
    "most_video_by_year\n",
    "most_video_by_year = most_video_by_year.idxmax(axis=0).to_frame() \n",
    "most_video_by_year.columns = ['title']\n",
    "detail_most_video_by_year = most_video_by_year.merge(ratings)\n",
    "detail_most_video_by_year"
   ]
  },
  {
   "cell_type": "markdown",
   "id": "932c1965",
   "metadata": {},
   "source": [
    "**Add column named \"positive_ratings:\"** is about the positive ratings"
   ]
  },
  {
   "cell_type": "code",
   "execution_count": 22,
   "id": "49cccd97",
   "metadata": {},
   "outputs": [],
   "source": [
    "def count_positive_rating(x):\n",
    "    for i in x:\n",
    "        if i['name'] in ['Beautiful', 'Courageous',\n",
    "                         'Fascinating', 'Funny',\n",
    "                         'Informative', 'Ingenious',\n",
    "                         'Inspiring', 'Jaw-dropping',\n",
    "                         'OK', 'Persuasive'] :\n",
    "            return i['count']\n",
    "ted_df['positive_ratings'] = ted_df['ratings'].apply(lambda x: count_positive_rating(x))"
   ]
  },
  {
   "cell_type": "markdown",
   "id": "31c1e61e",
   "metadata": {},
   "source": [
    "**Add column named \"negative_ratings:\"** is about the negative ratings"
   ]
  },
  {
   "cell_type": "code",
   "execution_count": 23,
   "id": "b49d3ed7",
   "metadata": {},
   "outputs": [],
   "source": [
    "def count_negative_rating(x):\n",
    "    for i in x:\n",
    "        if i['name'] in ['Confusing', 'Longwinded', 'Obnoxious', 'Unconvincing'] :\n",
    "            return i['count']\n",
    "ted_df['negative_ratings'] = ted_df['ratings'].apply(lambda x: count_negative_rating(x))"
   ]
  },
  {
   "cell_type": "markdown",
   "id": "e40a3fe2",
   "metadata": {},
   "source": [
    "**Group by data by \"Year_published\" to visualize the positive ratings and negative ratings through each year**"
   ]
  },
  {
   "cell_type": "code",
   "execution_count": 49,
   "id": "21bb554c",
   "metadata": {},
   "outputs": [],
   "source": [
    "groupby_year = ted_df.groupby('Year_published').sum()"
   ]
  },
  {
   "cell_type": "code",
   "execution_count": 51,
   "id": "18d23c53",
   "metadata": {},
   "outputs": [
    {
     "data": {
      "image/png": "[encoded data removed]",
      "text/plain": [
       "<Figure size 1080x576 with 1 Axes>"
      ]
     },
     "metadata": {
      "needs_background": "light"
     },
     "output_type": "display_data"
    }
   ],
   "source": [
    "plt.figure(figsize=(15,8))\n",
    "plt.plot(groupby_year['positive_ratings'], label ='positive_ratings',marker='o',linestyle='solid')\n",
    "plt.plot(groupby_year['negative_ratings'], label ='negative_ratings',marker='p',linestyle='dashed')\n",
    "plt.xlabel('Year published')\n",
    "plt.ylabel('Total ratings')\n",
    "plt.title('Total of four kinds of ratings by year published')\n",
    "plt.legend();"
   ]
  },
  {
   "cell_type": "markdown",
   "id": "e3b18ea4",
   "metadata": {},
   "source": [
    "**Comment:**\n",
    "- As we can see, the total number of positive ratings is many times more than negative ratings.\n",
    "- Most video on `ted.com` have a positive ratings. A lot of content which inspire, give a lot of information for everyone who need to find something news, to get new knowledges.\n",
    "- In the number of positive ratings, from 2006 to 2010, there is an upward trend in positive ratings. After that, there is a downward trend to 2017. I think the the video uploaded in advance will have more rating than the new one"
   ]
  },
  {
   "cell_type": "markdown",
   "id": "1b660f5b",
   "metadata": {},
   "source": [
    "#### 4. Tags"
   ]
  },
  {
   "cell_type": "code",
   "execution_count": null,
   "id": "14138aaf",
   "metadata": {},
   "outputs": [],
   "source": [
    "df_tags = ted_df.apply(lambda x: pd.Series(x['tags']),axis=1).stack().reset_index(level=1,drop=True)\n",
    "df_tags.name = 'tag'\n",
    "df_tags  = ted_df.drop('tags', axis=1).join(df_tags)\n",
    "df_tags"
   ]
  },
  {
   "cell_type": "markdown",
   "id": "20deb736",
   "metadata": {},
   "source": [
    "## 5. Conclusion"
   ]
  },
  {
   "cell_type": "markdown",
   "id": "d5745669",
   "metadata": {},
   "source": [
    "## 6. Reflection"
   ]
  },
  {
   "cell_type": "markdown",
   "id": "65b517eb",
   "metadata": {},
   "source": [
    "- Each member: What difficulties have you encountered?\n",
    "- Each member: What have you learned?\n",
    "- Your group: If you had more time, what would you do?"
   ]
  },
  {
   "cell_type": "markdown",
   "id": "0b9d3479",
   "metadata": {},
   "source": [
    "## 7. Reference\n",
    "1. [Data set](https://www.kaggle.com/rounakbanik/ted-talks).\n",
    "2. https://gocnhintangphat.com/timestamp-la-gi/.\n",
    "3. https://rstudio-pubs-static.s3.amazonaws.com/321337_38458c80a3fb4edf8755e8bce876e822.html.\\n\n",
    "4. https://stackoom.com/en/question/3w6dO.\n",
    "5. https://www.guru99.com/python-json.html.\n",
    "6. https://pandas.pydata.org/docs/reference/api/pandas.to_datetime.html.\n",
    "7. https://pretagteam.com/question/how-to-replace-special-characters-in-a-string-python."
   ]
  }
 ],
 "metadata": {
  "kernelspec": {
   "display_name": "Python 3 (ipykernel)",
   "language": "python",
   "name": "python3"
  },
  "language_info": {
   "codemirror_mode": {
    "name": "ipython",
    "version": 3
   },
   "file_extension": ".py",
   "mimetype": "text/x-python",
   "name": "python",
   "nbconvert_exporter": "python",
   "pygments_lexer": "ipython3",
   "version": "3.8.8"
  }
 },
 "nbformat": 4,
 "nbformat_minor": 5
}
