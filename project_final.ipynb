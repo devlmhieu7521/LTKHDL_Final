{
 "cells": [
  {
   "cell_type": "markdown",
   "id": "9660f41f",
   "metadata": {},
   "source": [
    "# Project final:\n",
    "\n",
    "Team:\n",
    "- Kiều Hải Đăng - 19127347\n",
    "- Lã Minh Hiếu - 19127400"
   ]
  },
  {
   "cell_type": "code",
   "execution_count": 38,
   "id": "8e4c5e68",
   "metadata": {},
   "outputs": [],
   "source": [
    "import pandas as pd"
   ]
  },
  {
   "cell_type": "markdown",
   "id": "e6877742",
   "metadata": {},
   "source": [
    "## 1. Collecting data:"
   ]
  },
  {
   "cell_type": "markdown",
   "id": "bdb61dba",
   "metadata": {},
   "source": [
    "**1.1 The subject of data:**\n",
    "\n",
    "- The dataset about TED Talks on the TED.com\n",
    "\n",
    "**1.2 The origin of data:**\n",
    "- We get dataset form [kaggle.](https://www.kaggle.com/rounakbanik/ted-talks?select=ted_main.csv)\n",
    "\n",
    "**1.3 The licence of data:**\n",
    "- The licence is [CC BY-NC-SA 4.0.](https://creativecommons.org/licenses/by-nc-sa/4.0/)\n",
    "\n",
    "**1.4 How did authors collect data?**\n",
    "- The data has been scraped from the official TED Website.\n",
    "\n",
    "**1.5 Data describtion**\n",
    "- These datasets contain information of all audio-video recordings of TED Talks uploaded to the official TED.com website until September 21st, 2017. \n"
   ]
  },
  {
   "cell_type": "markdown",
   "id": "0fa40c54",
   "metadata": {},
   "source": [
    "## 2. Exploring data"
   ]
  },
  {
   "cell_type": "markdown",
   "id": "46263c01",
   "metadata": {},
   "source": [
    "- How many rows and how many columns?\n",
    "- What is the meaning of each row?\n",
    "\n",
    "    - Are there **duplicated** rows?\n",
    "    - What is the meaning of each column?\n",
    "    - What is the current data type of each column? Are there columns having inappropriate data types?\n",
    "    \n",
    "    - With each **numerical** column, how are values distributed?\n",
    "        - What is the percentage of missing values?\n",
    "        - Min? max? Are they abnormal?\n",
    "        \n",
    "    - With each **categorical** column, how are values distributed?\n",
    "        - What is the percentage of missing values?\n",
    "        - How many different values? Show a few\n",
    "        - Are they abnormal?"
   ]
  },
  {
   "cell_type": "code",
   "execution_count": 36,
   "id": "af0d62df",
   "metadata": {
    "scrolled": true
   },
   "outputs": [],
   "source": [
    "ted_df = pd.read_csv('ted_main.csv')"
   ]
  },
  {
   "cell_type": "markdown",
   "id": "fe7b8c4f",
   "metadata": {},
   "source": [
    "#### How many rows and how many columns?"
   ]
  },
  {
   "cell_type": "code",
   "execution_count": 37,
   "id": "67570d6c",
   "metadata": {},
   "outputs": [],
   "source": [
    "n_rows, n_cols = ted_df.shape"
   ]
  },
  {
   "cell_type": "markdown",
   "id": "83597d89",
   "metadata": {},
   "source": [
    "#### Are there duplicated rows?"
   ]
  },
  {
   "cell_type": "code",
   "execution_count": 12,
   "id": "599c2a65",
   "metadata": {},
   "outputs": [
    {
     "data": {
      "text/plain": [
       "False"
      ]
     },
     "execution_count": 12,
     "metadata": {},
     "output_type": "execute_result"
    }
   ],
   "source": [
    "ted_df.duplicated().any()"
   ]
  },
  {
   "cell_type": "markdown",
   "id": "53387282",
   "metadata": {},
   "source": [
    "#### What is the meaning of each column?\n",
    "\n",
    "- name: The official name of the TED Talk. Includes the title and the speaker.\n",
    "- title: The title of the talk\n",
    "- description: A blurb of what the talk is about.\n",
    "- main_speaker: The first named speaker of the talk.\n",
    "- speaker_occupation: The occupation of the main speaker.\n",
    "- num_speaker: The number of speakers in the talk.\n",
    "- duration: The duration of the talk in seconds.\n",
    "- event: The TED/TEDx event where the talk took place.\n",
    "- film_date: The Unix timestamp of the filming.\n",
    "- published_date: The Unix timestamp for the publication of the talk on TED.com\n",
    "- comments: The number of first level comments made on the talk.\n",
    "- tags: The themes associated with the talk.\n",
    "- languages: The number of languages in which the talk is available.\n",
    "- ratings: A stringified dictionary of the various ratings given to the talk (inspiring, fascinating, jaw dropping, etc.)\n",
    "- related_talks: A list of dictionaries of recommended talks to watch next.\n",
    "- url: The URL of the talk.\n",
    "- views: The number of views on the talk."
   ]
  },
  {
   "cell_type": "markdown",
   "id": "856762d7",
   "metadata": {},
   "source": [
    "#### What is the current data type of each column? Are there columns having inappropriate data types?"
   ]
  },
  {
   "cell_type": "code",
   "execution_count": 13,
   "id": "ac427e94",
   "metadata": {},
   "outputs": [
    {
     "name": "stdout",
     "output_type": "stream",
     "text": [
      "<class 'pandas.core.frame.DataFrame'>\n",
      "RangeIndex: 2550 entries, 0 to 2549\n",
      "Data columns (total 17 columns):\n",
      " #   Column              Non-Null Count  Dtype \n",
      "---  ------              --------------  ----- \n",
      " 0   comments            2550 non-null   int64 \n",
      " 1   description         2550 non-null   object\n",
      " 2   duration            2550 non-null   int64 \n",
      " 3   event               2550 non-null   object\n",
      " 4   film_date           2550 non-null   int64 \n",
      " 5   languages           2550 non-null   int64 \n",
      " 6   main_speaker        2550 non-null   object\n",
      " 7   name                2550 non-null   object\n",
      " 8   num_speaker         2550 non-null   int64 \n",
      " 9   published_date      2550 non-null   int64 \n",
      " 10  ratings             2550 non-null   object\n",
      " 11  related_talks       2550 non-null   object\n",
      " 12  speaker_occupation  2544 non-null   object\n",
      " 13  tags                2550 non-null   object\n",
      " 14  title               2550 non-null   object\n",
      " 15  url                 2550 non-null   object\n",
      " 16  views               2550 non-null   int64 \n",
      "dtypes: int64(7), object(10)\n",
      "memory usage: 338.8+ KB\n"
     ]
    }
   ],
   "source": [
    "ted_df.info()"
   ]
  },
  {
   "cell_type": "markdown",
   "id": "81db2448",
   "metadata": {},
   "source": [
    "#### With each numerical column, how are values distributed?\n",
    "\n",
    "- What is the percentage of missing values?\n",
    "- Min? max? Are they abnormal?"
   ]
  },
  {
   "cell_type": "code",
   "execution_count": 18,
   "id": "180c4469",
   "metadata": {},
   "outputs": [
    {
     "data": {
      "text/html": [
       "<div>\n",
       "<style scoped>\n",
       "    .dataframe tbody tr th:only-of-type {\n",
       "        vertical-align: middle;\n",
       "    }\n",
       "\n",
       "    .dataframe tbody tr th {\n",
       "        vertical-align: top;\n",
       "    }\n",
       "\n",
       "    .dataframe thead th {\n",
       "        text-align: right;\n",
       "    }\n",
       "</style>\n",
       "<table border=\"1\" class=\"dataframe\">\n",
       "  <thead>\n",
       "    <tr style=\"text-align: right;\">\n",
       "      <th></th>\n",
       "      <th>comments</th>\n",
       "      <th>duration</th>\n",
       "      <th>film_date</th>\n",
       "      <th>languages</th>\n",
       "      <th>num_speaker</th>\n",
       "      <th>published_date</th>\n",
       "      <th>views</th>\n",
       "    </tr>\n",
       "  </thead>\n",
       "  <tbody>\n",
       "    <tr>\n",
       "      <th>count</th>\n",
       "      <td>2550.000000</td>\n",
       "      <td>2550.000000</td>\n",
       "      <td>2.550000e+03</td>\n",
       "      <td>2550.000000</td>\n",
       "      <td>2550.000000</td>\n",
       "      <td>2.550000e+03</td>\n",
       "      <td>2.550000e+03</td>\n",
       "    </tr>\n",
       "    <tr>\n",
       "      <th>mean</th>\n",
       "      <td>191.562353</td>\n",
       "      <td>826.510196</td>\n",
       "      <td>1.321928e+09</td>\n",
       "      <td>27.326275</td>\n",
       "      <td>1.028235</td>\n",
       "      <td>1.343525e+09</td>\n",
       "      <td>1.698297e+06</td>\n",
       "    </tr>\n",
       "    <tr>\n",
       "      <th>std</th>\n",
       "      <td>282.315223</td>\n",
       "      <td>374.009138</td>\n",
       "      <td>1.197391e+08</td>\n",
       "      <td>9.563452</td>\n",
       "      <td>0.207705</td>\n",
       "      <td>9.464009e+07</td>\n",
       "      <td>2.498479e+06</td>\n",
       "    </tr>\n",
       "    <tr>\n",
       "      <th>min</th>\n",
       "      <td>2.000000</td>\n",
       "      <td>135.000000</td>\n",
       "      <td>7.464960e+07</td>\n",
       "      <td>0.000000</td>\n",
       "      <td>1.000000</td>\n",
       "      <td>1.151367e+09</td>\n",
       "      <td>5.044300e+04</td>\n",
       "    </tr>\n",
       "    <tr>\n",
       "      <th>25%</th>\n",
       "      <td>63.000000</td>\n",
       "      <td>577.000000</td>\n",
       "      <td>1.257466e+09</td>\n",
       "      <td>23.000000</td>\n",
       "      <td>1.000000</td>\n",
       "      <td>1.268463e+09</td>\n",
       "      <td>7.557928e+05</td>\n",
       "    </tr>\n",
       "    <tr>\n",
       "      <th>50%</th>\n",
       "      <td>118.000000</td>\n",
       "      <td>848.000000</td>\n",
       "      <td>1.333238e+09</td>\n",
       "      <td>28.000000</td>\n",
       "      <td>1.000000</td>\n",
       "      <td>1.340935e+09</td>\n",
       "      <td>1.124524e+06</td>\n",
       "    </tr>\n",
       "    <tr>\n",
       "      <th>75%</th>\n",
       "      <td>221.750000</td>\n",
       "      <td>1046.750000</td>\n",
       "      <td>1.412964e+09</td>\n",
       "      <td>33.000000</td>\n",
       "      <td>1.000000</td>\n",
       "      <td>1.423432e+09</td>\n",
       "      <td>1.700760e+06</td>\n",
       "    </tr>\n",
       "    <tr>\n",
       "      <th>max</th>\n",
       "      <td>6404.000000</td>\n",
       "      <td>5256.000000</td>\n",
       "      <td>1.503792e+09</td>\n",
       "      <td>72.000000</td>\n",
       "      <td>5.000000</td>\n",
       "      <td>1.506092e+09</td>\n",
       "      <td>4.722711e+07</td>\n",
       "    </tr>\n",
       "  </tbody>\n",
       "</table>\n",
       "</div>"
      ],
      "text/plain": [
       "          comments     duration     film_date    languages  num_speaker  \\\n",
       "count  2550.000000  2550.000000  2.550000e+03  2550.000000  2550.000000   \n",
       "mean    191.562353   826.510196  1.321928e+09    27.326275     1.028235   \n",
       "std     282.315223   374.009138  1.197391e+08     9.563452     0.207705   \n",
       "min       2.000000   135.000000  7.464960e+07     0.000000     1.000000   \n",
       "25%      63.000000   577.000000  1.257466e+09    23.000000     1.000000   \n",
       "50%     118.000000   848.000000  1.333238e+09    28.000000     1.000000   \n",
       "75%     221.750000  1046.750000  1.412964e+09    33.000000     1.000000   \n",
       "max    6404.000000  5256.000000  1.503792e+09    72.000000     5.000000   \n",
       "\n",
       "       published_date         views  \n",
       "count    2.550000e+03  2.550000e+03  \n",
       "mean     1.343525e+09  1.698297e+06  \n",
       "std      9.464009e+07  2.498479e+06  \n",
       "min      1.151367e+09  5.044300e+04  \n",
       "25%      1.268463e+09  7.557928e+05  \n",
       "50%      1.340935e+09  1.124524e+06  \n",
       "75%      1.423432e+09  1.700760e+06  \n",
       "max      1.506092e+09  4.722711e+07  "
      ]
     },
     "execution_count": 18,
     "metadata": {},
     "output_type": "execute_result"
    }
   ],
   "source": [
    "numerics = ['int16', 'int32', 'int64']\n",
    "num_df = ted_df.select_dtypes(include=numerics)\n",
    "num_df.describe()\n",
    "# nomal"
   ]
  },
  {
   "cell_type": "markdown",
   "id": "724f6959",
   "metadata": {},
   "source": [
    "#### With each categorical column, how are values distributed?\n",
    "\n",
    "- What is the percentage of missing values?\n",
    "- How many different values? Show a few\n",
    "- Are they abnormal?"
   ]
  },
  {
   "cell_type": "code",
   "execution_count": 30,
   "id": "800bfd37",
   "metadata": {},
   "outputs": [
    {
     "data": {
      "text/plain": [
       "comments              0.000000\n",
       "description           0.000000\n",
       "duration              0.000000\n",
       "event                 0.000000\n",
       "film_date             0.000000\n",
       "languages             0.000000\n",
       "main_speaker          0.000000\n",
       "name                  0.000000\n",
       "num_speaker           0.000000\n",
       "published_date        0.000000\n",
       "ratings               0.000000\n",
       "related_talks         0.000000\n",
       "speaker_occupation    0.235294\n",
       "tags                  0.000000\n",
       "title                 0.000000\n",
       "url                   0.000000\n",
       "views                 0.000000\n",
       "dtype: float64"
      ]
     },
     "execution_count": 30,
     "metadata": {},
     "output_type": "execute_result"
    }
   ],
   "source": [
    "ted_df.isnull().mean() * 100"
   ]
  },
  {
   "cell_type": "code",
   "execution_count": 35,
   "id": "c6dc3d23",
   "metadata": {},
   "outputs": [
    {
     "data": {
      "text/plain": [
       "comments               559\n",
       "description           2550\n",
       "duration              1083\n",
       "event                  355\n",
       "film_date              735\n",
       "languages               66\n",
       "main_speaker          2156\n",
       "name                  2550\n",
       "num_speaker              5\n",
       "published_date        2490\n",
       "ratings               2550\n",
       "related_talks         2550\n",
       "speaker_occupation    1458\n",
       "tags                  2530\n",
       "title                 2550\n",
       "url                   2550\n",
       "views                 2550\n",
       "dtype: int64"
      ]
     },
     "execution_count": 35,
     "metadata": {},
     "output_type": "execute_result"
    }
   ],
   "source": [
    "ted_df.nunique(axis=0)"
   ]
  },
  {
   "cell_type": "markdown",
   "id": "4d274440",
   "metadata": {},
   "source": [
    "## 3. Asking meaningful questions"
   ]
  },
  {
   "cell_type": "markdown",
   "id": "63cd7756",
   "metadata": {},
   "source": [
    "- What is the question?\n",
    "- What are benefits of finding the answer?"
   ]
  },
  {
   "cell_type": "markdown",
   "id": "cf31fd8b",
   "metadata": {},
   "source": [
    "1. Thời gian trung bình của một video là bao nhiêu? Độ dài ngắn của một video có ảnh hưởng đến lượt view hay không? Nếu video càng ngắn, lượt xem càng nhiều và các video đều dưới một ngưỡng thời gian nào đó (VD: 30 phút) thì có phải đó là ý đồ của TED nhằm mục đích ... của họ hay không?\n",
    "2. Video có lượt rate cao nhất? Có phải rating càng nhiều or càng cao thì view càng nhiều hay không.\n",
    "3. Tương quan giữa lượt xem và lượt bình luận của mỗi video, có phải đại đa số người dùng không thích or thích chia sẻ cảm nghĩ or góp ý với mỗi video?\n",
    "4. Người dùng thường có xu hướng related_talk cùng thể loại/tác giả/thời gian/... hay là khác? Đưa ra quan điểm của nhóm giải thích cho vấn đề này.\n",
    "5. Nghề nghiệp nào khi thuyết trình sẽ có nhiều lượt view nhất? Lượt view đó có phụ thuộc vào danh tiếng, tiền tài, địa vị của nhân vật đó hay không?"
   ]
  },
  {
   "cell_type": "markdown",
   "id": "01a8c7c3",
   "metadata": {},
   "source": [
    "## 4. Preprocessing + analyzing data to answer each question"
   ]
  },
  {
   "cell_type": "code",
   "execution_count": null,
   "id": "381e2142",
   "metadata": {},
   "outputs": [],
   "source": []
  },
  {
   "cell_type": "markdown",
   "id": "20deb736",
   "metadata": {},
   "source": [
    "## 5. Conclusion"
   ]
  },
  {
   "cell_type": "markdown",
   "id": "d5745669",
   "metadata": {},
   "source": [
    "## 6. Reflection"
   ]
  },
  {
   "cell_type": "markdown",
   "id": "65b517eb",
   "metadata": {},
   "source": [
    "- Each member: What difficulties have you encountered?\n",
    "- Each member: What have you learned?\n",
    "- Your group: If you had more time, what would you do?"
   ]
  },
  {
   "cell_type": "markdown",
   "id": "0b9d3479",
   "metadata": {},
   "source": [
    "## 7. Reference"
   ]
  }
 ],
 "metadata": {
  "kernelspec": {
   "display_name": "Python 3 (ipykernel)",
   "language": "python",
   "name": "python3"
  },
  "language_info": {
   "codemirror_mode": {
    "name": "ipython",
    "version": 3
   },
   "file_extension": ".py",
   "mimetype": "text/x-python",
   "name": "python",
   "nbconvert_exporter": "python",
   "pygments_lexer": "ipython3",
   "version": "3.8.8"
  }
 },
 "nbformat": 4,
 "nbformat_minor": 5
}
